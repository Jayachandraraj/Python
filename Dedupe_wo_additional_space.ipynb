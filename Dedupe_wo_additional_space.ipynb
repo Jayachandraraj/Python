{
 "cells": [
  {
   "cell_type": "code",
   "execution_count": 1,
   "metadata": {},
   "outputs": [
    {
     "name": "stdin",
     "output_type": "stream",
     "text": [
      "Enter word  dhanapal\n"
     ]
    },
    {
     "name": "stdout",
     "output_type": "stream",
     "text": [
      "adhlnp\n"
     ]
    }
   ],
   "source": [
    "a = list(input('Enter word '))\n",
    "a.sort()\n",
    "i = 0\n",
    "while i < (len(a) - 1):\n",
    "    if a[i] == a[i+1]:\n",
    "        a.pop(i)\n",
    "    else:\n",
    "        i += 1\n",
    "print(''.join(a))\n"
   ]
  },
  {
   "cell_type": "code",
   "execution_count": null,
   "metadata": {},
   "outputs": [],
   "source": []
  }
 ],
 "metadata": {
  "kernelspec": {
   "display_name": "Python 3",
   "language": "python",
   "name": "python3"
  },
  "language_info": {
   "codemirror_mode": {
    "name": "ipython",
    "version": 3
   },
   "file_extension": ".py",
   "mimetype": "text/x-python",
   "name": "python",
   "nbconvert_exporter": "python",
   "pygments_lexer": "ipython3",
   "version": "3.7.0"
  }
 },
 "nbformat": 4,
 "nbformat_minor": 2
}
